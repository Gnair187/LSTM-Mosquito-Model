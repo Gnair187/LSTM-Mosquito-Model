{
 "cells": [
  {
   "cell_type": "code",
   "execution_count": 1,
   "id": "b18a8408",
   "metadata": {
    "scrolled": true
   },
   "outputs": [],
   "source": [
    "import zipfile\n",
    "from zipfile import ZipFile\n",
    "import pandas as pd\n",
    "import numpy as np\n",
    "import netCDF4 as nc\n",
    "from matplotlib import pyplot as plt\n",
    "import xarray as xr\n",
    "import os\n",
    "from calendar import isleap\n",
    "import warnings\n",
    "warnings.filterwarnings(\"ignore\")\n",
    "import copy\n",
    "import xarray as xr\n",
    "from rasterio import Affine\n",
    "from rasterstats import zonal_stats\n",
    "from osgeo import gdal\n",
    "import geopandas as gpd\n",
    "import numpy as np\n",
    "from shapely.geometry import Polygon\n",
    "import os\n",
    "from shapely.ops import unary_union\n"
   ]
  },
  {
   "cell_type": "code",
   "execution_count": 2,
   "id": "53516651",
   "metadata": {
    "scrolled": true
   },
   "outputs": [],
   "source": [
    "import geopandas as gpd\n",
    "\n",
    "path_poly = r\"C:\\Users\\gokul\\Downloads\\QGIS Natural Earth\\Toronto SHP\\GTA.shp\"\n",
    "gdf = gpd.read_file(path_poly)\n",
    "\n",
    "# Change the CRS to 4326 for the GTA shapefile. This only needs to be done once.\n",
    "gdf = gdf.to_crs(epsg=4326)\n",
    "gdf.to_file(path_poly)"
   ]
  },
  {
   "cell_type": "code",
   "execution_count": 3,
   "id": "4e7fce6b",
   "metadata": {},
   "outputs": [],
   "source": [
    "path_poly = r\"C:\\Users\\gokul\\Downloads\\QGIS Natural Earth\\Toronto SHP\\GTA.shp\"\n",
    "merged = gdf.geometry.unary_union\n",
    "gdf_merged = gpd.GeoDataFrame(geometry=[merged])\n",
    "gdf_merged = gdf_merged.set_crs('EPSG:4326')\n",
    "gdf_m = gdf_merged.to_crs('EPSG:3857')\n",
    "gdf_m['area_m2'] = gdf_m.geometry.area\n",
    "areaofshp = gdf_m['area_m2']"
   ]
  },
  {
   "cell_type": "code",
   "execution_count": 4,
   "id": "d93e7c96",
   "metadata": {},
   "outputs": [],
   "source": [
    "# Define file paths\n",
    "path = r'D:\\Mosq Proj Data\\SM Data and code\\SM DATA'\n",
    "basedir = path\n",
    "path_poly = r\"C:\\Users\\gokul\\Downloads\\QGIS Natural Earth\\Toronto SHP\\GTA.shp\"\n",
    "gdf_merged = gpd.read_file(path_poly)\n",
    "geom = gdf_merged.geometry.values[0]\n",
    "\n",
    "average = {}\n",
    "filepathname = []\n",
    "count = []\n",
    "\n",
    "for file in os.listdir(basedir):\n",
    "    filepathname.append(os.path.join(basedir, file))\n",
    "for path_nc in filepathname:\n",
    "    ds = xr.open_dataset(path_nc)\n",
    "    # trying to reset the image from 360 to -180 and 180 so i can use it with the shp (I believe this dataset didn't need it, so it does nothing here)\n",
    "    ds = ds.assign_coords(lon=(((ds.lon + 180) % 360) - 180)).sortby('lon')\n",
    "    gdobj = gdal.Open(path_nc)\n",
    "\n",
    "    # Calculate geotransform for raster data\n",
    "    gt = list(gdobj.GetGeoTransform()) \n",
    "    gt[1] = np.mean(np.diff(ds['lon']))\n",
    "    gt[0] = -180 - (gt[1]/2)\n",
    "    gt[5] = np.mean(np.diff(ds['lat']))\n",
    "    gt[3] = 90 - (gt[5]/2)\n",
    "    affine = Affine.from_gdal(*gt)\n",
    "    var = 'sm' \n",
    "\n",
    "    # Loop through each time point in the dataset\n",
    "    for t in ds.time.data:\n",
    "        array = np.squeeze(ds[var].values)\n",
    "        zstats = zonal_stats(geom, array, affine=affine, stats=\"count\", nodata=np.nan, all_touched=True, raster_out=True)\n",
    "        mini = zstats[0]['mini_raster_array']\n",
    "        ma = zstats[0]['mini_raster_affine']\n",
    "\n",
    "        # Handle low pixel count scenarios\n",
    "        if zstats[0]['count'] < 20:\n",
    "            f_overlap = np.zeros(mini.shape)\n",
    "            for i in range(mini.shape[0]):\n",
    "                for j in range(mini.shape[1]):\n",
    "                    if mini.mask[i, j]:\n",
    "                        continue\n",
    "                    # Calculate pixel geometry and overlay with polygon\n",
    "                    ul = (ma[2] + (j * ma[0]), ma[5] + (i * ma[4]))\n",
    "                    pixel = Polygon([ul, (ul[0] + ma[0], ul[1]), (ul[0], ul[1] + ma[4]), (ul[0] - ma[0], ul[1]), ul])\n",
    "                    f_overlap[i, j] = geom.intersection(pixel).area / pixel.area\n",
    "            \n",
    "            # Compute weighted average\n",
    "            mini = np.where(mini < 0, 0, mini)\n",
    "            mini = np.where(mini == 0, np.nan, mini)\n",
    "            average[t] = np.ma.average(mini, weights=f_overlap)\n",
    "            count.append(np.count_nonzero(~np.isnan(mini)))\n",
    "        else:\n",
    "            mini = np.where(mini < 0, 0, mini)\n",
    "            mini = np.where(mini == 0, np.nan, mini)\n",
    "            average[t] = np.nanmean(mini)\n",
    "            count.append(np.count_nonzero(~np.isnan(mini)))\n",
    "\n",
    "# insert the results into a dataframe and remove nan\n",
    "Soil_Moisture_Data_Compiled=pd.DataFrame()\n",
    "Data = pd.Series(list((average.values())))\n",
    "Date = pd.Series(list((average.keys())))\n",
    "Soil_Moisture_Data_Compiled['SM']=Data\n",
    "Soil_Moisture_Data_Compiled['Date']=Date\n",
    "Soil_Moisture_Data_Compiled['Count']=count\n",
    "\n",
    "Soil_Moisture_Data_Compiled=Soil_Moisture_Data_Compiled.dropna()"
   ]
  },
  {
   "cell_type": "code",
   "execution_count": 5,
   "id": "6f49fdca",
   "metadata": {},
   "outputs": [
    {
     "data": {
      "text/html": [
       "<div>\n",
       "<style scoped>\n",
       "    .dataframe tbody tr th:only-of-type {\n",
       "        vertical-align: middle;\n",
       "    }\n",
       "\n",
       "    .dataframe tbody tr th {\n",
       "        vertical-align: top;\n",
       "    }\n",
       "\n",
       "    .dataframe thead th {\n",
       "        text-align: right;\n",
       "    }\n",
       "</style>\n",
       "<table border=\"1\" class=\"dataframe\">\n",
       "  <thead>\n",
       "    <tr style=\"text-align: right;\">\n",
       "      <th></th>\n",
       "      <th>SM</th>\n",
       "      <th>Date</th>\n",
       "      <th>Count</th>\n",
       "    </tr>\n",
       "  </thead>\n",
       "  <tbody>\n",
       "  </tbody>\n",
       "</table>\n",
       "</div>"
      ],
      "text/plain": [
       "Empty DataFrame\n",
       "Columns: [SM, Date, Count]\n",
       "Index: []"
      ]
     },
     "execution_count": 5,
     "metadata": {},
     "output_type": "execute_result"
    }
   ],
   "source": [
    "Soil_Moisture_Data_Compiled"
   ]
  },
  {
   "cell_type": "code",
   "execution_count": 6,
   "id": "b198f382",
   "metadata": {},
   "outputs": [],
   "source": [
    "Soil_Moisture_Data_Compiled=Soil_Moisture_Data_Compiled.reset_index()\n",
    "Soil_Moisture_Data_Compiled=Soil_Moisture_Data_Compiled.drop(columns=['index'])"
   ]
  },
  {
   "cell_type": "code",
   "execution_count": 7,
   "id": "972109a2",
   "metadata": {},
   "outputs": [],
   "source": [
    "Soil_Moisture_Data_Compiled_Copy=copy.deepcopy(Soil_Moisture_Data_Compiled)"
   ]
  },
  {
   "cell_type": "code",
   "execution_count": 8,
   "id": "0f036b04",
   "metadata": {
    "scrolled": true
   },
   "outputs": [],
   "source": [
    "# Getting some statistics for the data we extracted, see if the counts and whatnot are good to proceed or if we need to rerun.\n",
    "Soil_Moisture_Data_Compiled_Copy['Date'] = pd.to_datetime(Soil_Moisture_Data_Compiled_Copy['Date'])\n",
    "\n",
    "# Monthly breakdown - mean, min, max and the sum for counts\n",
    "Soil_Moisture_Data_Compiled_Copy['Month'] = Soil_Moisture_Data_Compiled_Copy['Date'].dt.month\n",
    "sm_count_stats_by_month = Soil_Moisture_Data_Compiled_Copy.groupby('Month')['Count'].agg(['mean', 'min', 'max'])\n",
    "\n",
    "# Seeing the count breakdown for each month. Do some months have more count than other months?\n",
    "sm_total_counts_by_month = Soil_Moisture_Data_Compiled_Copy.groupby('Month')['Count'].sum()\n",
    "sm_percent_counts_by_month = (sm_total_counts_by_month / sm_total_counts_by_month.sum()) * 100\n",
    "\n",
    "# How many counts are below average vs minimium\n",
    "below_average_by_month = Soil_Moisture_Data_Compiled_Copy.groupby('Month')['Count'].apply(lambda x: (x < x.mean()).sum() / len(x) * 100)\n",
    "at_minimum_by_month = Soil_Moisture_Data_Compiled_Copy.groupby('Month')['Count'].apply(lambda x: (x == x.min()).sum() / len(x) * 100)\n",
    "sm_count_stats_by_month = sm_count_stats_by_month.merge(sm_percent_counts_by_month, on='Month')\n",
    "sm_count_stats_by_month = sm_count_stats_by_month.merge(below_average_by_month, on='Month')\n",
    "sm_count_stats_by_month = sm_count_stats_by_month.merge(at_minimum_by_month, on='Month')\n",
    "sm_count_stats_by_month.rename(columns={'mean': 'Mean Count', 'min': 'Min Count', 'max': 'Max Count', 'Count_x': 'Percentage of Total Counts', 'Count_y': 'Percentage of Data Below Average Count', 'Count': 'Percentage of Data at Minimum Count'}, inplace=True)\n",
    "sm_count_stats_by_month = sm_count_stats_by_month.drop('Percentage of Total Counts', axis=1)\n",
    "total_data_by_month = Soil_Moisture_Data_Compiled_Copy.groupby('Month')['Count'].count()\n",
    "percent_data_by_month = (total_data_by_month / total_data_by_month.sum()) * 100\n",
    "sm_count_stats_by_month = sm_count_stats_by_month.merge(percent_data_by_month, on='Month')\n",
    "sm_count_stats_by_month.rename(columns={'Count': 'Percentage of Total Data'}, inplace=True)\n",
    "\n",
    "sm_count_stats_by_month = sm_count_stats_by_month.reset_index()\n",
    "\n",
    "# print('\\nCount Statistics by Month SM:')\n",
    "# print(sm_count_stats_by_month)"
   ]
  },
  {
   "cell_type": "code",
   "execution_count": 9,
   "id": "0db75079-23e2-4129-a094-f0ce53451446",
   "metadata": {},
   "outputs": [
    {
     "name": "stdout",
     "output_type": "stream",
     "text": [
      "\n",
      "Count Statistics by Month SM:\n",
      "Empty DataFrame\n",
      "Columns: [Month, Mean Count, Min Count, Max Count, Percentage of Data Below Average Count, Percentage of Data at Minimum Count, Percentage of Total Data]\n",
      "Index: []\n"
     ]
    }
   ],
   "source": [
    "# filter data so min data has at least 4 counts\n",
    "SM=Soil_Moisture_Data_Compiled[Soil_Moisture_Data_Compiled['Count']>4]\n",
    "SM_Copy=copy.deepcopy(SM)\n",
    "SM_Copy['Date'] = pd.to_datetime(SM_Copy['Date'])\n",
    "SM_Copy['Month'] = SM_Copy['Date'].dt.month\n",
    "sm_count_stats_by_month = SM_Copy.groupby('Month')['Count'].agg(['mean', 'min', 'max'])\n",
    "sm_total_counts_by_month = SM_Copy.groupby('Month')['Count'].sum()\n",
    "sm_percent_counts_by_month = (sm_total_counts_by_month / sm_total_counts_by_month.sum()) * 100\n",
    "below_average_by_month = SM_Copy.groupby('Month')['Count'].apply(lambda x: (x < x.mean()).sum() / len(x) * 100)\n",
    "at_minimum_by_month = SM_Copy.groupby('Month')['Count'].apply(lambda x: (x == x.min()).sum() / len(x) * 100)\n",
    "sm_count_stats_by_month = sm_count_stats_by_month.merge(sm_percent_counts_by_month, on='Month')\n",
    "sm_count_stats_by_month = sm_count_stats_by_month.merge(below_average_by_month, on='Month')\n",
    "sm_count_stats_by_month = sm_count_stats_by_month.merge(at_minimum_by_month, on='Month')\n",
    "sm_count_stats_by_month.rename(columns={'mean': 'Mean Count', 'min': 'Min Count', 'max': 'Max Count', 'Count_x': 'Percentage of Total Counts', 'Count_y': 'Percentage of Data Below Average Count', 'Count': 'Percentage of Data at Minimum Count'}, inplace=True)\n",
    "sm_count_stats_by_month = sm_count_stats_by_month.drop('Percentage of Total Counts', axis=1)\n",
    "\n",
    "total_data_by_month = SM_Copy.groupby('Month')['Count'].count()\n",
    "percent_data_by_month = (total_data_by_month / total_data_by_month.sum()) * 100\n",
    "sm_count_stats_by_month = sm_count_stats_by_month.merge(percent_data_by_month, on='Month')\n",
    "sm_count_stats_by_month.rename(columns={'Count': 'Percentage of Total Data'}, inplace=True)\n",
    "\n",
    "sm_count_stats_by_month = sm_count_stats_by_month.reset_index()\n",
    "\n",
    "print('\\nCount Statistics by Month SM:')\n",
    "print(sm_count_stats_by_month)"
   ]
  },
  {
   "cell_type": "code",
   "execution_count": 10,
   "id": "37a46371",
   "metadata": {},
   "outputs": [],
   "source": [
    "# SM.to_excel(r'Path\\To\\File\\SoilMoisturePolygon.xlsx')"
   ]
  }
 ],
 "metadata": {
  "kernelspec": {
   "display_name": "Python 3 (ipykernel)",
   "language": "python",
   "name": "python3"
  },
  "language_info": {
   "codemirror_mode": {
    "name": "ipython",
    "version": 3
   },
   "file_extension": ".py",
   "mimetype": "text/x-python",
   "name": "python",
   "nbconvert_exporter": "python",
   "pygments_lexer": "ipython3",
   "version": "3.8.10"
  }
 },
 "nbformat": 4,
 "nbformat_minor": 5
}
